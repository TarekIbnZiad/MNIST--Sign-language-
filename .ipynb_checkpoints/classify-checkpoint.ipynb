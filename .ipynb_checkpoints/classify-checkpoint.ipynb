{
 "cells": [
  {
   "cell_type": "code",
   "execution_count": 2,
   "metadata": {},
   "outputs": [],
   "source": [
    "import numpy as np\n",
    "import tensorflow as tf\n",
    "import pandas as pd\n",
    "from keras.utils import to_categorical\n",
    "from matplotlib.pyplot import imshow\n",
    "import keras.backend as K"
   ]
  },
  {
   "cell_type": "code",
   "execution_count": 6,
   "metadata": {},
   "outputs": [
    {
     "name": "stdout",
     "output_type": "stream",
     "text": [
      "[[  3 107 118 ... 204 203 202]\n",
      " [  6 155 157 ... 103 135 149]\n",
      " [  2 187 188 ... 195 194 195]\n",
      " ...\n",
      " [ 18 174 174 ... 202 200 200]\n",
      " [ 17 177 181 ...  64  87  93]\n",
      " [ 23 179 180 ... 205 209 215]]\n"
     ]
    }
   ],
   "source": [
    "#loadata and proper representation\n",
    "df=pd.read_excel('D:/Program Scripts/Machine Learning/datasets/MNIST Sign/sign_mnist_train.xlsx',sheetname=\"sign_mnist_train\")\n",
    "data=(np.array(df))\n",
    "print(len(data[0]))"
   ]
  },
  {
   "cell_type": "code",
   "execution_count": null,
   "metadata": {},
   "outputs": [],
   "source": []
  }
 ],
 "metadata": {
  "kernelspec": {
   "display_name": "Python 3",
   "language": "python",
   "name": "python3"
  },
  "language_info": {
   "codemirror_mode": {
    "name": "ipython",
    "version": 3
   },
   "file_extension": ".py",
   "mimetype": "text/x-python",
   "name": "python",
   "nbconvert_exporter": "python",
   "pygments_lexer": "ipython3",
   "version": "3.6.5"
  }
 },
 "nbformat": 4,
 "nbformat_minor": 2
}
