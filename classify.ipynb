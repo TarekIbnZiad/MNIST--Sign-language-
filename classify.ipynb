{
 "cells": [
  {
   "cell_type": "code",
   "execution_count": 175,
   "metadata": {},
   "outputs": [],
   "source": [
    "import numpy as np\n",
    "import tensorflow as tf\n",
    "import pandas as pd\n",
    "from keras.utils import to_categorical\n",
    "from keras.layers import Input, Add, Dense, Activation, ZeroPadding2D, BatchNormalization, Flatten, Conv2D, AveragePooling2D, MaxPooling2D, GlobalMaxPooling2D\n",
    "from keras.models import Model, load_model\n",
    "from matplotlib.pyplot import imshow\n",
    "import matplotlib.pyplot as plt\n",
    "import keras.backend as K\n"
   ]
  },
  {
   "cell_type": "code",
   "execution_count": 176,
   "metadata": {},
   "outputs": [],
   "source": [
    "import numpy as np\n",
    "from keras import layers\n",
    "from keras.layers import Input, Add, Dense, Activation, ZeroPadding2D, BatchNormalization, Flatten, Conv2D, AveragePooling2D, MaxPooling2D, GlobalMaxPooling2D\n",
    "from keras.models import Model, load_model\n",
    "from keras.preprocessing import image\n",
    "from keras.utils import layer_utils\n",
    "from keras.utils.data_utils import get_file\n",
    "from keras.applications.imagenet_utils import preprocess_input\n",
    "import pydot\n",
    "from IPython.display import SVG\n",
    "from keras.utils.vis_utils import model_to_dot\n",
    "from keras.utils import plot_model\n",
    "from keras.initializers import glorot_uniform\n",
    "import scipy.misc\n",
    "from keras.utils import to_categorical\n",
    "from matplotlib.pyplot import imshow\n",
    "import matplotlib.pyplot as plt\n",
    "%matplotlib inline\n",
    "import pandas as pd\n",
    "import PIL.Image\n",
    "import skimage\n",
    "import tensorflow as tf\n",
    "import keras.backend as K\n",
    "from keras.utils import to_categorical\n",
    "K.set_image_data_format('channels_last')\n",
    "K.set_learning_phase(1)"
   ]
  },
  {
   "cell_type": "code",
   "execution_count": 177,
   "metadata": {},
   "outputs": [],
   "source": [
    "#loadata \n",
    "train=pd.read_excel('D:/Program Scripts/Machine Learning/datasets/MNIST Sign/sign_mnist_train.xlsx',sheetname=\"sign_mnist_train\")\n",
    "train_label=train['label']\n",
    "train=train.drop('label',1)\n",
    "train=(np.array(train))\n",
    "test=pd.read_excel('D:/Program Scripts/Machine Learning/datasets/MNIST Sign/sign_mnist_test.xlsx',sheetname=\"sign_mnist_test\")\n",
    "test_label=test['label']\n",
    "test=test.drop('label',1)\n",
    "test=(np.array(test))\n"
   ]
  },
  {
   "cell_type": "code",
   "execution_count": 178,
   "metadata": {},
   "outputs": [],
   "source": [
    "#one hot encoding of labels\n",
    "def one_hot(labels):\n",
    "    labels=pd.Series(labels)\n",
    "    labels=pd.get_dummies(labels)\n",
    "    return np.array(labels)"
   ]
  },
  {
   "cell_type": "code",
   "execution_count": 179,
   "metadata": {},
   "outputs": [],
   "source": [
    "#Shapeing 1d vec to image matrix\n",
    "def remodel(vec):\n",
    "    mat=[]\n",
    "    for i in range(0,len(vec)):\n",
    "        mat.append((vec[0]).reshape(28,28,1))\n",
    "    return np.array(mat)\n",
    "        \n",
    "    "
   ]
  },
  {
   "cell_type": "code",
   "execution_count": 180,
   "metadata": {},
   "outputs": [],
   "source": [
    "train_data,test_data,train_labels,test_labels=remodel(train),remodel(test),one_hot(train_label),one_hot(test_label)"
   ]
  },
  {
   "cell_type": "code",
   "execution_count": 181,
   "metadata": {},
   "outputs": [
    {
     "data": {
      "text/plain": [
       "<matplotlib.image.AxesImage at 0x246337807f0>"
      ]
     },
     "execution_count": 181,
     "metadata": {},
     "output_type": "execute_result"
    },
    {
     "data": {
      "image/png": "[encoded data removed]",
      "text/plain": [
       "<Figure size 432x288 with 1 Axes>"
      ]
     },
     "metadata": {},
     "output_type": "display_data"
    }
   ],
   "source": [
    "plt.imshow(train_data[0].reshape(28,28))#checking data "
   ]
  },
  {
   "cell_type": "code",
   "execution_count": 182,
   "metadata": {},
   "outputs": [],
   "source": [
    "def custom_net(input_shape):# Custom Model\n",
    "    X_input = Input(input_shape)\n",
    "    X = Conv2D(5, (3,3), strides = (5, 5), name = 'conv1')(X_input)\n",
    "    X = Activation('relu')(X)\n",
    "    X = MaxPooling2D((2, 2),strides=(2,2),name='max_pool1')(X)\n",
    "    X = Conv2D(10, (1,1), strides = (2, 2), name = 'conv2')(X)\n",
    "    X = Activation('relu')(X)\n",
    "    X = MaxPooling2D((2, 2),strides=(1,1),name='max_pool2')(X)\n",
    "    X = Flatten()(X)\n",
    "    X = Dense(24, activation='sigmoid', name='fc')(X)\n",
    "    model = Model(inputs=X_input,outputs=X,name=\"custom_net\")\n",
    "    return model\n",
    "    \n",
    "    "
   ]
  },
  {
   "cell_type": "code",
   "execution_count": 183,
   "metadata": {},
   "outputs": [],
   "source": [
    "cModel=custom_net(train_data.shape[1:])"
   ]
  },
  {
   "cell_type": "code",
   "execution_count": 184,
   "metadata": {},
   "outputs": [],
   "source": [
    "cModel.compile('adam', 'binary_crossentropy', metrics=['accuracy'])"
   ]
  },
  {
   "cell_type": "code",
   "execution_count": 185,
   "metadata": {},
   "outputs": [
    {
     "name": "stdout",
     "output_type": "stream",
     "text": [
      "(27455, 28, 28, 1)\n"
     ]
    }
   ],
   "source": [
    "print(train_data.shape)"
   ]
  },
  {
   "cell_type": "code",
   "execution_count": 186,
   "metadata": {},
   "outputs": [
    {
     "name": "stdout",
     "output_type": "stream",
     "text": [
      "Epoch 1/10\n",
      "27455/27455 [==============================] - 4s 154us/step - loss: 9.7642 - acc: 0.3852\n",
      "Epoch 2/10\n",
      "27455/27455 [==============================] - 4s 133us/step - loss: 9.7638 - acc: 0.3852\n",
      "Epoch 3/10\n",
      "27455/27455 [==============================] - 4s 136us/step - loss: 9.7637 - acc: 0.3852\n",
      "Epoch 4/10\n",
      "27455/27455 [==============================] - 4s 136us/step - loss: 7.5432 - acc: 0.5052\n",
      "Epoch 5/10\n",
      "27455/27455 [==============================] - 4s 136us/step - loss: 0.1758 - acc: 0.9583\n",
      "Epoch 6/10\n",
      "27455/27455 [==============================] - 4s 137us/step - loss: 0.1735 - acc: 0.9583\n",
      "Epoch 7/10\n",
      "27455/27455 [==============================] - 4s 137us/step - loss: 0.1736 - acc: 0.9583\n",
      "Epoch 8/10\n",
      "27455/27455 [==============================] - 4s 137us/step - loss: 0.1736 - acc: 0.9583\n",
      "Epoch 9/10\n",
      "27455/27455 [==============================] - 4s 137us/step - loss: 0.1737 - acc: 0.9583\n",
      "Epoch 10/10\n",
      "27455/27455 [==============================] - 4s 139us/step - loss: 0.1737 - acc: 0.9583\n"
     ]
    },
    {
     "data": {
      "text/plain": [
       "<keras.callbacks.History at 0x24604947a58>"
      ]
     },
     "execution_count": 186,
     "metadata": {},
     "output_type": "execute_result"
    }
   ],
   "source": [
    "cModel.fit(x=train_data,y=train_labels,epochs=10)"
   ]
  },
  {
   "cell_type": "code",
   "execution_count": 187,
   "metadata": {},
   "outputs": [
    {
     "name": "stdout",
     "output_type": "stream",
     "text": [
      "7172/7172 [==============================] - 1s 85us/step\n",
      "\n",
      "Loss = 0.2046020263842345\n",
      "Test Accuracy = 0.9583333134651184\n"
     ]
    }
   ],
   "source": [
    "preds = cModel.evaluate(x=test_data,y=test_labels)\n",
    "print()\n",
    "print (\"Loss = \" + str(preds[0]))\n",
    "print (\"Test Accuracy = \" + str(preds[1]))"
   ]
  },
  {
   "cell_type": "code",
   "execution_count": null,
   "metadata": {},
   "outputs": [],
   "source": []
  }
 ],
 "metadata": {
  "kernelspec": {
   "display_name": "Python 3",
   "language": "python",
   "name": "python3"
  },
  "language_info": {
   "codemirror_mode": {
    "name": "ipython",
    "version": 3
   },
   "file_extension": ".py",
   "mimetype": "text/x-python",
   "name": "python",
   "nbconvert_exporter": "python",
   "pygments_lexer": "ipython3",
   "version": "3.6.5"
  }
 },
 "nbformat": 4,
 "nbformat_minor": 2
}
