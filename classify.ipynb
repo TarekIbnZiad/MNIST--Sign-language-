{
 "cells": [
  {
   "cell_type": "code",
   "execution_count": 2,
   "metadata": {},
   "outputs": [],
   "source": [
    "import numpy as np\n",
    "import tensorflow as tf\n",
    "import pandas as pd\n",
    "from keras.utils import to_categorical\n",
    "from matplotlib.pyplot import imshow\n",
    "import keras.backend as K"
   ]
  },
  {
   "cell_type": "code",
   "execution_count": 15,
   "metadata": {},
   "outputs": [],
   "source": [
    "#loadata \n",
    "train=pd.read_excel('D:/Program Scripts/Machine Learning/datasets/MNIST Sign/sign_mnist_train.xlsx',sheetname=\"sign_mnist_train\")\n",
    "train_label=train['label']\n",
    "train=train.drop('label',1)\n",
    "train=(np.array(train))\n",
    "test=pd.read_excel('D:/Program Scripts/Machine Learning/datasets/MNIST Sign/sign_mnist_test.xlsx',sheetname=\"sign_mnist_test\")\n",
    "test_label=test['label']\n",
    "test=test.drop('label',1)\n",
    "test=(np.array(test))\n"
   ]
  },
  {
   "cell_type": "code",
   "execution_count": 19,
   "metadata": {},
   "outputs": [],
   "source": [
    "#one hot encoding of labels\n",
    "def one_hot(labels):\n",
    "    labels=pd.Series(labels)\n",
    "    labels=pd.get_dummies(labels)\n",
    "    return np.array(labels)"
   ]
  },
  {
   "cell_type": "code",
   "execution_count": 20,
   "metadata": {},
   "outputs": [],
   "source": [
    "def remodel(vec):\n",
    "    mat=[]\n",
    "    for i in range(0,len(vec)):\n",
    "        mat.append((vec[0]).reshape(28,28))\n",
    "    return np.array(mat)\n",
    "        \n",
    "    "
   ]
  },
  {
   "cell_type": "code",
   "execution_count": 22,
   "metadata": {},
   "outputs": [],
   "source": [
    "train_data,test_data,train_labels,test_labels=remodel(train),remodel(test),one_hot(train_label),one_hot(test_label)"
   ]
  },
  {
   "cell_type": "code",
   "execution_count": null,
   "metadata": {},
   "outputs": [],
   "source": [
    "plt."
   ]
  },
  {
   "cell_type": "code",
   "execution_count": null,
   "metadata": {},
   "outputs": [],
   "source": []
  }
 ],
 "metadata": {
  "kernelspec": {
   "display_name": "Python 3",
   "language": "python",
   "name": "python3"
  },
  "language_info": {
   "codemirror_mode": {
    "name": "ipython",
    "version": 3
   },
   "file_extension": ".py",
   "mimetype": "text/x-python",
   "name": "python",
   "nbconvert_exporter": "python",
   "pygments_lexer": "ipython3",
   "version": "3.6.5"
  }
 },
 "nbformat": 4,
 "nbformat_minor": 2
}
